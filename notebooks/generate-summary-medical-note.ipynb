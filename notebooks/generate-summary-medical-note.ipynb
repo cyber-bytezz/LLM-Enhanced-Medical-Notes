{
 "cells": [
  {
   "cell_type": "code",
   "execution_count": 6,
   "metadata": {},
   "outputs": [],
   "source": [
    "import pandas as pd\n",
    "import random"
   ]
  },
  {
   "cell_type": "code",
   "execution_count": 5,
   "metadata": {},
   "outputs": [
    {
     "data": {
      "text/plain": [
       "(1171, 25)"
      ]
     },
     "execution_count": 5,
     "metadata": {},
     "output_type": "execute_result"
    }
   ],
   "source": [
    "patients = pd.read_csv(\"https://github.com/bsenst/streamlit-llm/raw/main/notebooks/csv/patients.csv\")\n",
    "patients.shape"
   ]
  },
  {
   "cell_type": "code",
   "execution_count": 11,
   "metadata": {},
   "outputs": [
    {
     "data": {
      "text/plain": [
       "'85b81fe1-9eaa-419b-9cf6-16aabba09fd6'"
      ]
     },
     "execution_count": 11,
     "metadata": {},
     "output_type": "execute_result"
    }
   ],
   "source": [
    "patient_id = patients.Id.unique()[random.randint(0,len(patients))]\n",
    "patient_id"
   ]
  },
  {
   "cell_type": "code",
   "execution_count": 10,
   "metadata": {},
   "outputs": [
    {
     "data": {
      "text/plain": [
       "(8376, 6)"
      ]
     },
     "execution_count": 10,
     "metadata": {},
     "output_type": "execute_result"
    }
   ],
   "source": [
    "conditions = pd.read_csv(\"https://github.com/bsenst/streamlit-llm/raw/main/notebooks/csv/conditions.csv\")\n",
    "conditions.shape"
   ]
  },
  {
   "cell_type": "code",
   "execution_count": 27,
   "metadata": {},
   "outputs": [
    {
     "data": {
      "text/plain": [
       "array(['Streptococcal sore throat (disorder)',\n",
       "       'Acute viral pharyngitis (disorder)', 'First degree burn',\n",
       "       'Body mass index 30+ - obesity (finding)'], dtype=object)"
      ]
     },
     "execution_count": 27,
     "metadata": {},
     "output_type": "execute_result"
    }
   ],
   "source": [
    "conditions_selected = conditions[conditions.PATIENT==patient_id].DESCRIPTION.unique()\n",
    "conditions_selected"
   ]
  },
  {
   "cell_type": "code",
   "execution_count": 16,
   "metadata": {},
   "outputs": [
    {
     "data": {
      "text/plain": [
       "(15478, 6)"
      ]
     },
     "execution_count": 16,
     "metadata": {},
     "output_type": "execute_result"
    }
   ],
   "source": [
    "immunizations = pd.read_csv(\"https://github.com/bsenst/streamlit-llm/raw/main/notebooks/csv/immunizations.csv\")\n",
    "immunizations.shape"
   ]
  },
  {
   "cell_type": "code",
   "execution_count": 24,
   "metadata": {},
   "outputs": [
    {
     "data": {
      "text/plain": [
       "array(['Influenza  seasonal  injectable  preservative free',\n",
       "       'Td (adult) preservative free', 'Hep B  adult',\n",
       "       'meningococcal MCV4P'], dtype=object)"
      ]
     },
     "execution_count": 24,
     "metadata": {},
     "output_type": "execute_result"
    }
   ],
   "source": [
    "immunizations_selected = immunizations[immunizations.PATIENT==patient_id].DESCRIPTION.unique()\n",
    "immunizations_selected"
   ]
  },
  {
   "cell_type": "code",
   "execution_count": 21,
   "metadata": {},
   "outputs": [
    {
     "data": {
      "text/plain": [
       "(42989, 13)"
      ]
     },
     "execution_count": 21,
     "metadata": {},
     "output_type": "execute_result"
    }
   ],
   "source": [
    "medications = pd.read_csv(\"https://github.com/bsenst/streamlit-llm/raw/main/notebooks/csv/medications.csv\")\n",
    "medications.shape"
   ]
  },
  {
   "cell_type": "code",
   "execution_count": 25,
   "metadata": {},
   "outputs": [
    {
     "data": {
      "text/plain": [
       "array(['Penicillin V Potassium 500 MG Oral Tablet',\n",
       "       'Ibuprofen 200 MG Oral Tablet'], dtype=object)"
      ]
     },
     "execution_count": 25,
     "metadata": {},
     "output_type": "execute_result"
    }
   ],
   "source": [
    "medications_selected = medications[medications.PATIENT==patient_id].DESCRIPTION.unique()\n",
    "medications_selected"
   ]
  },
  {
   "cell_type": "code",
   "execution_count": 33,
   "metadata": {},
   "outputs": [
    {
     "data": {
      "text/plain": [
       "'Streptococcal sore throat (disorder) Acute viral pharyngitis (disorder) First degree burn Body mass index 30+ - obesity (finding)Influenza  seasonal  injectable  preservative free Td (adult) preservative free Hep B  adult meningococcal MCV4PPenicillin V Potassium 500 MG Oral Tablet Ibuprofen 200 MG Oral Tablet'"
      ]
     },
     "execution_count": 33,
     "metadata": {},
     "output_type": "execute_result"
    }
   ],
   "source": [
    "\" \".join(conditions_selected) + \\\n",
    "\" \".join(immunizations_selected) + \\\n",
    "\" \".join(medications_selected)"
   ]
  },
  {
   "cell_type": "code",
   "execution_count": 59,
   "metadata": {},
   "outputs": [
    {
     "data": {
      "text/plain": [
       "31"
      ]
     },
     "execution_count": 59,
     "metadata": {},
     "output_type": "execute_result"
    }
   ],
   "source": [
    "# https://www.geeksforgeeks.org/python-program-to-calculate-age-in-year/\n",
    "from datetime import date\n",
    "\n",
    "birthDate = pd.to_datetime(patients[patients.Id==patient_id].BIRTHDATE)\n",
    "today = date.today()\n",
    "age = today.year - birthDate.dt.year.values[0] - ((today.month, today.day) < (birthDate.dt.month.values[0], birthDate.dt.day.values[0]))\n",
    "\n",
    "age"
   ]
  }
 ],
 "metadata": {
  "kernelspec": {
   "display_name": "Python 3",
   "language": "python",
   "name": "python3"
  },
  "language_info": {
   "codemirror_mode": {
    "name": "ipython",
    "version": 3
   },
   "file_extension": ".py",
   "mimetype": "text/x-python",
   "name": "python",
   "nbconvert_exporter": "python",
   "pygments_lexer": "ipython3",
   "version": "3.10.12"
  },
  "orig_nbformat": 4
 },
 "nbformat": 4,
 "nbformat_minor": 2
}
